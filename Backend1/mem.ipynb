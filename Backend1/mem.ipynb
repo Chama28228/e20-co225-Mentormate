{
 "cells": [
  {
   "cell_type": "code",
   "execution_count": 35,
   "metadata": {},
   "outputs": [],
   "source": [
    "import logging\n",
    "from langchain_groq import ChatGroq\n",
    "from langchain_core.prompts import ChatPromptTemplate, MessagesPlaceholder\n",
    "from langchain_core.runnables.history import RunnableWithMessageHistory\n",
    "from langchain_community.chat_message_histories import SQLChatMessageHistory\n",
    "from langchain.schema.output_parser import StrOutputParser\n",
    "from dotenv import load_dotenv\n",
    "from langchain_chroma import Chroma\n",
    "import chromadb\n",
    "from chromadb.utils import embedding_functions as cef"
   ]
  },
  {
   "cell_type": "code",
   "execution_count": 4,
   "metadata": {},
   "outputs": [],
   "source": [
    "llm = ChatGroq(temperature=0.2, max_tokens=3000, model=\"Llama3-8b-8192\", streaming=True)\n",
    "system = \"\"\"\n",
    "            your are a helpful personal tutor. Your task is to answer questions about biology solely based on the content provided.\n",
    "            Your scope is limited to the content provided. You're answering to an advanced level high school student.\n",
    "            Answer solely using the following content: {content}\n",
    "            Only use the factual information from the content to answer the question. Never answer outside of the content. Do not add any new information outside the content. Never reference from outside sources.\n",
    "            If you feel like you don't have enough information to answer, say \"I don't have enough information to answer this question.\"\n",
    "            Your answer should be detailed and informative. First give a short answer using 2-3 sentences, then provide more details and explanations.\n",
    "            Always refer to the content provided when answering questions. This content is your primary knowledge base.\n",
    "            You're supposed to consider previous interactions with the user when answering questions. Be personalized and engaging.\n",
    "            Name of the student: {student_name}\n",
    "\n",
    "            **Instructions for Formatting:**\n",
    "            - Mainly use paragraphs in your response.\n",
    "            - Paragraphs should be detailed and informative.\n",
    "            - Use bullet points for lists where appropriate.\n",
    "            - Use numbers for ordered steps.\n",
    "            - Highlight key points in **bold**.\n",
    "            - Use headings to organize the content.\n",
    "            \"\"\""
   ]
  }
 ],
 "metadata": {
  "kernelspec": {
   "display_name": "venv",
   "language": "python",
   "name": "python3"
  },
  "language_info": {
   "codemirror_mode": {
    "name": "ipython",
    "version": 3
   },
   "file_extension": ".py",
   "mimetype": "text/x-python",
   "name": "python",
   "nbconvert_exporter": "python",
   "pygments_lexer": "ipython3",
   "version": "3.10.4"
  }
 },
 "nbformat": 4,
 "nbformat_minor": 2
}
