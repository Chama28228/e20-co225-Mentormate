{
 "cells": [
  {
   "cell_type": "code",
   "execution_count": 22,
   "metadata": {},
   "outputs": [],
   "source": [
    "import logging\n",
    "from langchain_groq import ChatGroq\n",
    "from langchain_core.prompts import ChatPromptTemplate, MessagesPlaceholder\n",
    "from langchain_core.runnables.history import RunnableWithMessageHistory\n",
    "from langchain_community.chat_message_histories import SQLChatMessageHistory\n",
    "from langchain.schema.output_parser import StrOutputParser\n",
    "from dotenv import load_dotenv\n",
    "from langchain_core.messages import HumanMessage , AIMessage\n",
    "from langchain.memory import ConversationBufferWindowMemory\n",
    "from langchain.memory import ConversationSummaryBufferMemory\n",
    "\n"
   ]
  },
  {
   "cell_type": "code",
   "execution_count": 14,
   "metadata": {},
   "outputs": [],
   "source": [
    "llm = ChatGroq(temperature=0.2, max_tokens=3000, model=\"Llama3-8b-8192\", streaming=True)"
   ]
  },
  {
   "cell_type": "code",
   "execution_count": 15,
   "metadata": {},
   "outputs": [],
   "source": [
    "system = \"\"\"\n",
    "            your are a helpful personal tutor. Your task is to answer questions about biology solely based on the content provided.\n",
    "            Your scope is limited to the content provided. You're answering to an advanced level high school student.\n",
    "            Answer solely using the following content: {content}\n",
    "            Only use the factual information from the content to answer the question. Never answer outside of the content. Do not add any new information outside the content. Never reference from outside sources.\n",
    "            If you feel like you don't have enough information to answer, say \"I don't have enough information to answer this question.\"\n",
    "            Your answer should be detailed and informative. First give a short answer using 2-3 sentences, then provide more details and explanations.\n",
    "            Always refer to the content provided when answering questions. This content is your primary knowledge base.\n",
    "            You're supposed to consider previous interactions with the user when answering questions. Be personalized and engaging.\n",
    "            Name of the student: {student_name}\n",
    "\n",
    "            **Instructions for Formatting:**\n",
    "            - Mainly use paragraphs in your response.\n",
    "            - Paragraphs should be detailed and informative.\n",
    "            - Use bullet points for lists where appropriate.\n",
    "            - Use numbers for ordered steps.\n",
    "            - Highlight key points in **bold**.\n",
    "            - Use headings to organize the content.\n",
    "            \"\"\""
   ]
  },
  {
   "cell_type": "code",
   "execution_count": 17,
   "metadata": {},
   "outputs": [],
   "source": [
    "history = [\n",
    "    HumanMessage(content=\"My name is yohan\"),\n",
    "    AIMessage(content=\"How are you yohan\")\n",
    "    \n",
    "]"
   ]
  },
  {
   "cell_type": "code",
   "execution_count": 18,
   "metadata": {},
   "outputs": [],
   "source": [
    "chat_template = ChatPromptTemplate.from_messages([\n",
    "                (\"system\", system),\n",
    "                MessagesPlaceholder(variable_name=\"history\"),\n",
    "                (\"human\", \"{question}\")\n",
    "            ])"
   ]
  },
  {
   "cell_type": "code",
   "execution_count": 23,
   "metadata": {},
   "outputs": [
    {
     "name": "stdout",
     "output_type": "stream",
     "text": [
      "input_variables=['content', 'history', 'question', 'student_name'] input_types={'history': typing.List[typing.Union[langchain_core.messages.ai.AIMessage, langchain_core.messages.human.HumanMessage, langchain_core.messages.chat.ChatMessage, langchain_core.messages.system.SystemMessage, langchain_core.messages.function.FunctionMessage, langchain_core.messages.tool.ToolMessage]]} messages=[SystemMessagePromptTemplate(prompt=PromptTemplate(input_variables=['content', 'student_name'], template='\\n            your are a helpful personal tutor. Your task is to answer questions about biology solely based on the content provided.\\n            Your scope is limited to the content provided. You\\'re answering to an advanced level high school student.\\n            Answer solely using the following content: {content}\\n            Only use the factual information from the content to answer the question. Never answer outside of the content. Do not add any new information outside the content. Never reference from outside sources.\\n            If you feel like you don\\'t have enough information to answer, say \"I don\\'t have enough information to answer this question.\"\\n            Your answer should be detailed and informative. First give a short answer using 2-3 sentences, then provide more details and explanations.\\n            Always refer to the content provided when answering questions. This content is your primary knowledge base.\\n            You\\'re supposed to consider previous interactions with the user when answering questions. Be personalized and engaging.\\n            Name of the student: {student_name}\\n\\n            **Instructions for Formatting:**\\n            - Mainly use paragraphs in your response.\\n            - Paragraphs should be detailed and informative.\\n            - Use bullet points for lists where appropriate.\\n            - Use numbers for ordered steps.\\n            - Highlight key points in **bold**.\\n            - Use headings to organize the content.\\n            ')), MessagesPlaceholder(variable_name='history'), HumanMessagePromptTemplate(prompt=PromptTemplate(input_variables=['question'], template='{question}'))]\n"
     ]
    }
   ],
   "source": [
    "print(chat_template)"
   ]
  },
  {
   "cell_type": "code",
   "execution_count": 19,
   "metadata": {},
   "outputs": [],
   "source": [
    "chain = chat_template | llm | StrOutputParser()"
   ]
  },
  {
   "cell_type": "code",
   "execution_count": 21,
   "metadata": {},
   "outputs": [
    {
     "data": {
      "text/plain": [
       "'Your name is yohan!'"
      ]
     },
     "execution_count": 21,
     "metadata": {},
     "output_type": "execute_result"
    }
   ],
   "source": [
    "content = \"RAG grounds llm from hallucinating\"\n",
    "student_name = \"yohan\"\n",
    "chain.invoke({\"content\":content , \"question\":\"what is my name\", \"student_name\": student_name , \"history\" : history})"
   ]
  },
  {
   "cell_type": "code",
   "execution_count": null,
   "metadata": {},
   "outputs": [],
   "source": []
  }
 ],
 "metadata": {
  "kernelspec": {
   "display_name": "venv",
   "language": "python",
   "name": "python3"
  },
  "language_info": {
   "codemirror_mode": {
    "name": "ipython",
    "version": 3
   },
   "file_extension": ".py",
   "mimetype": "text/x-python",
   "name": "python",
   "nbconvert_exporter": "python",
   "pygments_lexer": "ipython3",
   "version": "3.10.4"
  }
 },
 "nbformat": 4,
 "nbformat_minor": 2
}
